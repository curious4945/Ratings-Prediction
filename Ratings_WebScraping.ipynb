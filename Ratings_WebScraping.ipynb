{
 "cells": [
  {
   "cell_type": "code",
   "execution_count": 1,
   "id": "ce202c89",
   "metadata": {},
   "outputs": [],
   "source": [
    "#importing all the necessary libraries\n",
    "import selenium\n",
    "import pandas as pd\n",
    "import numpy as np\n",
    "from selenium import webdriver\n",
    "from bs4 import BeautifulSoup\n",
    "import requests\n",
    "import time\n",
    "from selenium.common.exceptions import NoSuchElementException,ElementNotInteractableException,ElementNotVisibleException\n",
    "import re\n",
    "import warnings\n",
    "warnings.filterwarnings('ignore')\n"
   ]
  },
  {
   "cell_type": "code",
   "execution_count": 2,
   "id": "c2cb1e1f",
   "metadata": {},
   "outputs": [],
   "source": [
    "from selenium.webdriver.edge.service import Service"
   ]
  },
  {
   "cell_type": "code",
   "execution_count": 3,
   "id": "6e105c1e",
   "metadata": {},
   "outputs": [],
   "source": [
    "s = Service(\"msedgedriver.exe\")"
   ]
  },
  {
   "cell_type": "markdown",
   "id": "0e916b16",
   "metadata": {},
   "source": [
    "### Amazon.com"
   ]
  },
  {
   "cell_type": "code",
   "execution_count": 326,
   "id": "f90f920b",
   "metadata": {},
   "outputs": [],
   "source": [
    "#driver loads www.amazon.in\n",
    "url =  'https://www.amazon.in/'\n",
    "driver = webdriver.Edge(\"msedgedriver.exe\")\n",
    "driver.get(url)\n"
   ]
  },
  {
   "cell_type": "markdown",
   "id": "edc69977",
   "metadata": {},
   "source": [
    "#### Collecting Reviews and Comments for Smartphones"
   ]
  },
  {
   "cell_type": "code",
   "execution_count": 230,
   "id": "fbf6a2fd",
   "metadata": {},
   "outputs": [],
   "source": [
    "#searching for \"smartphones\"\n",
    "search = driver.find_element_by_xpath('/html/body/div[1]/header/div/div[1]/div[2]/div/form/div[2]/div[1]/input')\n",
    "search.send_keys(\"smartphones\")\n",
    "search = driver.find_element_by_xpath('/html/body/div[1]/header/div/div[1]/div[2]/div/form/div[3]/div/span/input')\n",
    "search.click()\n"
   ]
  },
  {
   "cell_type": "code",
   "execution_count": 277,
   "id": "50d9fa8b",
   "metadata": {},
   "outputs": [],
   "source": [
    "#empty list for stoing all URLs of smartphone products\n",
    "produrl =[]"
   ]
  },
  {
   "cell_type": "code",
   "execution_count": 251,
   "id": "d387b4a4",
   "metadata": {},
   "outputs": [],
   "source": [
    "produrl_tag = driver.find_elements_by_xpath(\"//a[@class='a-link-normal s-underline-text s-underline-link-text s-link-style a-text-normal']\")"
   ]
  },
  {
   "cell_type": "code",
   "execution_count": 278,
   "id": "c92766f7",
   "metadata": {},
   "outputs": [],
   "source": [
    "#the url of each smartphone is appended to the the list\n",
    "for u in produrl_tag:\n",
    " try: \n",
    "     produrl.append(u.get_attribute(\"href\"))\n",
    " except:\n",
    "    produrl.append('-')"
   ]
  },
  {
   "cell_type": "code",
   "execution_count": 329,
   "id": "9181406b",
   "metadata": {},
   "outputs": [],
   "source": [
    "# an empty list to store all the urls of the comment pages\n",
    "rateurl = []"
   ]
  },
  {
   "cell_type": "code",
   "execution_count": 330,
   "id": "6595204b",
   "metadata": {},
   "outputs": [],
   "source": [
    "\"\"\"collects all the urls of 1 star - 5 star comment pages.\n",
    "This is done to ensure that all comments that are being collected, represent each of the 5 different star ratings equally\"\"\"\n",
    "for i in produrl:\n",
    "    driver.get(i)\n",
    "    time.sleep(3)\n",
    "    url_tag5 = driver.find_element_by_xpath(\"//a[@class='a-link-normal 5star']\")\n",
    "    url_tag4 = driver.find_element_by_xpath(\"//a[@class='a-link-normal 4star']\")\n",
    "    url_tag3 = driver.find_element_by_xpath(\"//a[@class='a-link-normal 3star']\")\n",
    "    url_tag2 = driver.find_element_by_xpath(\"//a[@class='a-link-normal 2star']\")\n",
    "    url_tag1 = driver.find_element_by_xpath(\"//a[@class='a-link-normal 1star']\")\n",
    "    rateurl.append(url_tag5.get_attribute(\"href\"))\n",
    "    rateurl.append(url_tag4.get_attribute(\"href\"))\n",
    "    rateurl.append(url_tag3.get_attribute(\"href\"))\n",
    "    rateurl.append(url_tag2.get_attribute(\"href\"))\n",
    "    rateurl.append(url_tag1.get_attribute(\"href\"))\n",
    "    \n"
   ]
  },
  {
   "cell_type": "code",
   "execution_count": 345,
   "id": "2f0131e0",
   "metadata": {},
   "outputs": [],
   "source": [
    "cmt = [] #empty list to store all comments\n",
    "rate = [] #empty list to store all the ratings\n"
   ]
  },
  {
   "cell_type": "code",
   "execution_count": 349,
   "id": "8d810a7b",
   "metadata": {},
   "outputs": [],
   "source": [
    "#all the comments and ratings on 10 pages are collected\n",
    "for i in rateurl:\n",
    "    driver.get(i)\n",
    "    for x in range(0,11):\n",
    "        time.sleep(3)\n",
    "        comment_tag = driver.find_elements_by_xpath(\"//span[@class='a-size-base review-text review-text-content']\")\n",
    "        rate_tag = driver.find_elements_by_xpath(\"//a[contains(@href,'/gp/customer-reviews/')]/i/span[1]\")\n",
    "        for k in comment_tag:\n",
    "            try:\n",
    "                cmt.append(k.text.replace(\"\\n\",\" \"))\n",
    "            except:\n",
    "                cmt.append(\"-\")\n",
    "        for r in rate_tag:\n",
    "            try:\n",
    "                rate.append(r.get_attribute(\"innerHTML\"))\n",
    "            except:\n",
    "                rate.append(\"-\")\n",
    "        nxtbtn = driver.find_element_by_xpath(\"//*[@id='cm_cr-pagination_bar']/ul/li[2]/a\")\n",
    "        nxtbtn.click()\n",
    "        "
   ]
  },
  {
   "cell_type": "code",
   "execution_count": 360,
   "id": "6d6f68fc",
   "metadata": {},
   "outputs": [],
   "source": [
    "#removes the \"out of 5 stars\" text and stores only the numbers in the Rate list\n",
    "Rate=[]\n",
    "for r in rate:\n",
    "    Rate.append(r.replace(' out of 5 stars',''))"
   ]
  },
  {
   "cell_type": "code",
   "execution_count": 365,
   "id": "919735e9",
   "metadata": {},
   "outputs": [],
   "source": [
    "#creating a dataframe to store the comments and ratings\n",
    "ratingsdf = {'Comment':cmt,'Rating':Rate}\n",
    "\n",
    "Ratedf1  = pd.DataFrame(ratingsdf)"
   ]
  },
  {
   "cell_type": "code",
   "execution_count": 366,
   "id": "51d0e332",
   "metadata": {},
   "outputs": [
    {
     "data": {
      "text/html": [
       "<div>\n",
       "<style scoped>\n",
       "    .dataframe tbody tr th:only-of-type {\n",
       "        vertical-align: middle;\n",
       "    }\n",
       "\n",
       "    .dataframe tbody tr th {\n",
       "        vertical-align: top;\n",
       "    }\n",
       "\n",
       "    .dataframe thead th {\n",
       "        text-align: right;\n",
       "    }\n",
       "</style>\n",
       "<table border=\"1\" class=\"dataframe\">\n",
       "  <thead>\n",
       "    <tr style=\"text-align: right;\">\n",
       "      <th></th>\n",
       "      <th>Comment</th>\n",
       "      <th>Rating</th>\n",
       "    </tr>\n",
       "  </thead>\n",
       "  <tbody>\n",
       "    <tr>\n",
       "      <th>0</th>\n",
       "      <td>Just unboxed the phone. Seems to be a better o...</td>\n",
       "      <td>5.0</td>\n",
       "    </tr>\n",
       "    <tr>\n",
       "      <th>1</th>\n",
       "      <td>This is perfect phone, good speed, decent spec...</td>\n",
       "      <td>5.0</td>\n",
       "    </tr>\n",
       "    <tr>\n",
       "      <th>2</th>\n",
       "      <td>A very satisfying experience with the device s...</td>\n",
       "      <td>5.0</td>\n",
       "    </tr>\n",
       "    <tr>\n",
       "      <th>3</th>\n",
       "      <td>It's a real monster. Everything is awesome fro...</td>\n",
       "      <td>5.0</td>\n",
       "    </tr>\n",
       "    <tr>\n",
       "      <th>4</th>\n",
       "      <td>I am using this phone for the last one week an...</td>\n",
       "      <td>5.0</td>\n",
       "    </tr>\n",
       "    <tr>\n",
       "      <th>...</th>\n",
       "      <td>...</td>\n",
       "      <td>...</td>\n",
       "    </tr>\n",
       "    <tr>\n",
       "      <th>6095</th>\n",
       "      <td>Please don't buy this...The data conctivity wa...</td>\n",
       "      <td>1.0</td>\n",
       "    </tr>\n",
       "    <tr>\n",
       "      <th>6096</th>\n",
       "      <td>Samsung M12. Camera clarity is absolutely wors...</td>\n",
       "      <td>1.0</td>\n",
       "    </tr>\n",
       "    <tr>\n",
       "      <th>6097</th>\n",
       "      <td>Horrible..bought this phone on launch date.cam...</td>\n",
       "      <td>1.0</td>\n",
       "    </tr>\n",
       "    <tr>\n",
       "      <th>6098</th>\n",
       "      <td>Hi friends don't purchase this phone with any ...</td>\n",
       "      <td>1.0</td>\n",
       "    </tr>\n",
       "    <tr>\n",
       "      <th>6099</th>\n",
       "      <td>Mobile is too bulky.. and thickness is too muc...</td>\n",
       "      <td>1.0</td>\n",
       "    </tr>\n",
       "  </tbody>\n",
       "</table>\n",
       "<p>6100 rows × 2 columns</p>\n",
       "</div>"
      ],
      "text/plain": [
       "                                                Comment Rating\n",
       "0     Just unboxed the phone. Seems to be a better o...    5.0\n",
       "1     This is perfect phone, good speed, decent spec...    5.0\n",
       "2     A very satisfying experience with the device s...    5.0\n",
       "3     It's a real monster. Everything is awesome fro...    5.0\n",
       "4     I am using this phone for the last one week an...    5.0\n",
       "...                                                 ...    ...\n",
       "6095  Please don't buy this...The data conctivity wa...    1.0\n",
       "6096  Samsung M12. Camera clarity is absolutely wors...    1.0\n",
       "6097  Horrible..bought this phone on launch date.cam...    1.0\n",
       "6098  Hi friends don't purchase this phone with any ...    1.0\n",
       "6099  Mobile is too bulky.. and thickness is too muc...    1.0\n",
       "\n",
       "[6100 rows x 2 columns]"
      ]
     },
     "execution_count": 366,
     "metadata": {},
     "output_type": "execute_result"
    }
   ],
   "source": [
    "Ratedf1"
   ]
  },
  {
   "cell_type": "markdown",
   "id": "d8e4f485",
   "metadata": {},
   "source": [
    "#### Collecting Reviews and Comments for Laptops"
   ]
  },
  {
   "cell_type": "code",
   "execution_count": 367,
   "id": "af2c0a63",
   "metadata": {},
   "outputs": [],
   "source": [
    "url =  'https://www.amazon.in/'\n",
    "driver = webdriver.Edge(\"msedgedriver.exe\")\n",
    "driver.get(url)\n"
   ]
  },
  {
   "cell_type": "code",
   "execution_count": 368,
   "id": "4f1aefce",
   "metadata": {},
   "outputs": [],
   "source": [
    "search = driver.find_element_by_xpath('/html/body/div[1]/header/div/div[1]/div[2]/div/form/div[2]/div[1]/input')\n",
    "search.send_keys(\"laptops\")\n",
    "search = driver.find_element_by_xpath('/html/body/div[1]/header/div/div[1]/div[2]/div/form/div[3]/div/span/input')\n",
    "search.click()\n"
   ]
  },
  {
   "cell_type": "code",
   "execution_count": 372,
   "id": "c98bd4f9",
   "metadata": {},
   "outputs": [],
   "source": [
    "produrl =[]\n",
    "produrl_tag = driver.find_elements_by_xpath(\"//a[@class='a-link-normal s-link-style a-text-normal']\")"
   ]
  },
  {
   "cell_type": "code",
   "execution_count": 373,
   "id": "e1797710",
   "metadata": {},
   "outputs": [],
   "source": [
    "for u in produrl_tag:\n",
    " try: \n",
    "     produrl.append(u.get_attribute(\"href\"))\n",
    " except:\n",
    "    produrl.append('-')"
   ]
  },
  {
   "cell_type": "code",
   "execution_count": 407,
   "id": "a01098e5",
   "metadata": {},
   "outputs": [],
   "source": [
    "rateurl = []"
   ]
  },
  {
   "cell_type": "code",
   "execution_count": 408,
   "id": "68cfa5f8",
   "metadata": {},
   "outputs": [],
   "source": [
    "for i in produrl:\n",
    "    driver.get(i)\n",
    "    time.sleep(3)\n",
    "    url_tag5 = driver.find_element_by_xpath(\"//a[@class='a-link-normal 5star']\")\n",
    "    url_tag4 = driver.find_element_by_xpath(\"//a[@class='a-link-normal 4star']\")\n",
    "    url_tag3 = driver.find_element_by_xpath(\"//a[@class='a-link-normal 3star']\")\n",
    "    url_tag2 = driver.find_element_by_xpath(\"//a[@class='a-link-normal 2star']\")\n",
    "    url_tag1 = driver.find_element_by_xpath(\"//a[@class='a-link-normal 1star']\")\n",
    "    rateurl.append(url_tag5.get_attribute(\"href\"))\n",
    "    rateurl.append(url_tag4.get_attribute(\"href\"))\n",
    "    rateurl.append(url_tag3.get_attribute(\"href\"))\n",
    "    rateurl.append(url_tag2.get_attribute(\"href\"))\n",
    "    rateurl.append(url_tag1.get_attribute(\"href\"))\n",
    "    \n"
   ]
  },
  {
   "cell_type": "code",
   "execution_count": 418,
   "id": "a92adede",
   "metadata": {},
   "outputs": [],
   "source": [
    "cmt = []\n",
    "rate = []\n"
   ]
  },
  {
   "cell_type": "code",
   "execution_count": 419,
   "id": "22aca970",
   "metadata": {},
   "outputs": [],
   "source": [
    "for i in rateurl:\n",
    "    driver.get(i)\n",
    "    for x in range(0,1):\n",
    "        time.sleep(3)\n",
    "        comment_tag = driver.find_elements_by_xpath(\"//span[@class='a-size-base review-text review-text-content']\")\n",
    "        rate_tag = driver.find_elements_by_xpath(\"//a[contains(@href,'/gp/customer-reviews/')]/i/span[1]\")\n",
    "        for k in comment_tag:\n",
    "            try:\n",
    "                cmt.append(k.text.replace(\"\\n\",\" \"))\n",
    "            except:\n",
    "                cmt.append(\"-\")\n",
    "        for r in rate_tag:\n",
    "            try:\n",
    "                rate.append(r.get_attribute(\"innerHTML\"))\n",
    "            except:\n",
    "                rate.append(\"-\")\n",
    "        \n",
    "        "
   ]
  },
  {
   "cell_type": "code",
   "execution_count": 422,
   "id": "136fd9a5",
   "metadata": {},
   "outputs": [],
   "source": [
    "Rate=[]\n",
    "for r in rate:\n",
    "    Rate.append(r.replace(' out of 5 stars',''))"
   ]
  },
  {
   "cell_type": "code",
   "execution_count": 423,
   "id": "1135d833",
   "metadata": {},
   "outputs": [],
   "source": [
    "ratingsdf2 = {'Comment':cmt,'Rating':Rate}\n",
    "\n",
    "Ratedf2  = pd.DataFrame(ratingsdf2)"
   ]
  },
  {
   "cell_type": "code",
   "execution_count": 764,
   "id": "31a69017",
   "metadata": {},
   "outputs": [
    {
     "data": {
      "text/html": [
       "<div>\n",
       "<style scoped>\n",
       "    .dataframe tbody tr th:only-of-type {\n",
       "        vertical-align: middle;\n",
       "    }\n",
       "\n",
       "    .dataframe tbody tr th {\n",
       "        vertical-align: top;\n",
       "    }\n",
       "\n",
       "    .dataframe thead th {\n",
       "        text-align: right;\n",
       "    }\n",
       "</style>\n",
       "<table border=\"1\" class=\"dataframe\">\n",
       "  <thead>\n",
       "    <tr style=\"text-align: right;\">\n",
       "      <th></th>\n",
       "      <th>Comment</th>\n",
       "      <th>Rating</th>\n",
       "    </tr>\n",
       "  </thead>\n",
       "  <tbody>\n",
       "    <tr>\n",
       "      <th>0</th>\n",
       "      <td>Not for Gamers, High End Programmers, Multimed...</td>\n",
       "      <td>5.0</td>\n",
       "    </tr>\n",
       "    <tr>\n",
       "      <th>1</th>\n",
       "      <td>1.Light weight, handy. 2. Fast / good for basi...</td>\n",
       "      <td>5.0</td>\n",
       "    </tr>\n",
       "    <tr>\n",
       "      <th>2</th>\n",
       "      <td>It's worth the price. The screen is not as big...</td>\n",
       "      <td>5.0</td>\n",
       "    </tr>\n",
       "    <tr>\n",
       "      <th>3</th>\n",
       "      <td>ओपन नही हुआ प्रोडक्ट बहुत अच्छा है साइज में छो...</td>\n",
       "      <td>5.0</td>\n",
       "    </tr>\n",
       "    <tr>\n",
       "      <th>5</th>\n",
       "      <td>Product is very good , suitable for limited li...</td>\n",
       "      <td>5.0</td>\n",
       "    </tr>\n",
       "    <tr>\n",
       "      <th>...</th>\n",
       "      <td>...</td>\n",
       "      <td>...</td>\n",
       "    </tr>\n",
       "    <tr>\n",
       "      <th>517</th>\n",
       "      <td>Writing this review after 3 months use. Overal...</td>\n",
       "      <td>4.0</td>\n",
       "    </tr>\n",
       "    <tr>\n",
       "      <th>518</th>\n",
       "      <td>Good laptop with a great look and all needfull...</td>\n",
       "      <td>4.0</td>\n",
       "    </tr>\n",
       "    <tr>\n",
       "      <th>519</th>\n",
       "      <td>It heats a lot for basic tasks , i5 i a piece ...</td>\n",
       "      <td>1.0</td>\n",
       "    </tr>\n",
       "    <tr>\n",
       "      <th>520</th>\n",
       "      <td>1 lakh me without dedicated GPU... My opinion ...</td>\n",
       "      <td>1.0</td>\n",
       "    </tr>\n",
       "    <tr>\n",
       "      <th>521</th>\n",
       "      <td>Buy Apple MacBook instead. Don't go for LG. It...</td>\n",
       "      <td>1.0</td>\n",
       "    </tr>\n",
       "  </tbody>\n",
       "</table>\n",
       "<p>521 rows × 2 columns</p>\n",
       "</div>"
      ],
      "text/plain": [
       "                                               Comment Rating\n",
       "0    Not for Gamers, High End Programmers, Multimed...    5.0\n",
       "1    1.Light weight, handy. 2. Fast / good for basi...    5.0\n",
       "2    It's worth the price. The screen is not as big...    5.0\n",
       "3    ओपन नही हुआ प्रोडक्ट बहुत अच्छा है साइज में छो...    5.0\n",
       "5    Product is very good , suitable for limited li...    5.0\n",
       "..                                                 ...    ...\n",
       "517  Writing this review after 3 months use. Overal...    4.0\n",
       "518  Good laptop with a great look and all needfull...    4.0\n",
       "519  It heats a lot for basic tasks , i5 i a piece ...    1.0\n",
       "520  1 lakh me without dedicated GPU... My opinion ...    1.0\n",
       "521  Buy Apple MacBook instead. Don't go for LG. It...    1.0\n",
       "\n",
       "[521 rows x 2 columns]"
      ]
     },
     "execution_count": 764,
     "metadata": {},
     "output_type": "execute_result"
    }
   ],
   "source": [
    "Ratedf2"
   ]
  },
  {
   "cell_type": "markdown",
   "id": "63397e27",
   "metadata": {},
   "source": [
    "#### Collecting Reviews and Comments for earphones"
   ]
  },
  {
   "cell_type": "code",
   "execution_count": 428,
   "id": "c9ceaa68",
   "metadata": {},
   "outputs": [],
   "source": [
    "search = driver.find_element_by_xpath('/html/body/div[1]/header/div/div[1]/div[2]/div/form/div[2]/div[1]/input')\n",
    "search.send_keys(\"earphones\")\n",
    "search = driver.find_element_by_xpath('/html/body/div[1]/header/div/div[1]/div[2]/div/form/div[3]/div/span/input')\n",
    "search.click()\n"
   ]
  },
  {
   "cell_type": "code",
   "execution_count": 429,
   "id": "1702936c",
   "metadata": {},
   "outputs": [],
   "source": [
    "produrl =[]"
   ]
  },
  {
   "cell_type": "code",
   "execution_count": 433,
   "id": "01e89aa2",
   "metadata": {},
   "outputs": [],
   "source": [
    "produrl_tag = driver.find_elements_by_xpath(\"//a[@class='a-link-normal s-link-style a-text-normal']\")"
   ]
  },
  {
   "cell_type": "code",
   "execution_count": 434,
   "id": "b6dfe059",
   "metadata": {},
   "outputs": [],
   "source": [
    "for u in produrl_tag:\n",
    " try: \n",
    "     produrl.append(u.get_attribute(\"href\"))\n",
    " except:\n",
    "    produrl.append('-')"
   ]
  },
  {
   "cell_type": "code",
   "execution_count": 441,
   "id": "be7c1882",
   "metadata": {},
   "outputs": [],
   "source": [
    "rateurl = []\n",
    "cmt = []\n",
    "rate = []"
   ]
  },
  {
   "cell_type": "code",
   "execution_count": 442,
   "id": "ba330087",
   "metadata": {},
   "outputs": [],
   "source": [
    "for i in produrl:\n",
    "    driver.get(i)\n",
    "    time.sleep(3)\n",
    "    url_tag5 = driver.find_element_by_xpath(\"//a[@class='a-link-normal 5star']\")\n",
    "    url_tag4 = driver.find_element_by_xpath(\"//a[@class='a-link-normal 4star']\")\n",
    "    url_tag3 = driver.find_element_by_xpath(\"//a[@class='a-link-normal 3star']\")\n",
    "    url_tag2 = driver.find_element_by_xpath(\"//a[@class='a-link-normal 2star']\")\n",
    "    url_tag1 = driver.find_element_by_xpath(\"//a[@class='a-link-normal 1star']\")\n",
    "    rateurl.append(url_tag5.get_attribute(\"href\"))\n",
    "    rateurl.append(url_tag4.get_attribute(\"href\"))\n",
    "    rateurl.append(url_tag3.get_attribute(\"href\"))\n",
    "    rateurl.append(url_tag2.get_attribute(\"href\"))\n",
    "    rateurl.append(url_tag1.get_attribute(\"href\"))\n",
    "    \n",
    "\n",
    "for i in rateurl:\n",
    "    driver.get(i)\n",
    "    for x in range(0,11):\n",
    "        time.sleep(3)\n",
    "        comment_tag = driver.find_elements_by_xpath(\"//span[@class='a-size-base review-text review-text-content']\")\n",
    "        rate_tag = driver.find_elements_by_xpath(\"//a[contains(@href,'/gp/customer-reviews/')]/i/span[1]\")\n",
    "        for k in comment_tag:\n",
    "            try:\n",
    "                cmt.append(k.text.replace(\"\\n\",\" \"))\n",
    "            except:\n",
    "                cmt.append(\"-\")\n",
    "        for r in rate_tag:\n",
    "            try:\n",
    "                rate.append(r.get_attribute(\"innerHTML\"))\n",
    "            except:\n",
    "                rate.append(\"-\")\n",
    "        nxtbtn = driver.find_element_by_xpath(\"//*[@id='cm_cr-pagination_bar']/ul/li[2]/a\")\n",
    "        nxtbtn.click()    \n"
   ]
  },
  {
   "cell_type": "code",
   "execution_count": 503,
   "id": "5bfd5a94",
   "metadata": {},
   "outputs": [],
   "source": [
    "Rate=[]\n",
    "for r in rate:\n",
    "    Rate.append(r.replace(' out of 5 stars',''))"
   ]
  },
  {
   "cell_type": "code",
   "execution_count": 504,
   "id": "6d8dc87d",
   "metadata": {},
   "outputs": [],
   "source": [
    "ratingsdf3 = {'Comment':cmt,'Rating':Rate}\n",
    "\n",
    "Ratedf3  = pd.DataFrame(ratingsdf3)"
   ]
  },
  {
   "cell_type": "code",
   "execution_count": 505,
   "id": "86f55098",
   "metadata": {},
   "outputs": [
    {
     "data": {
      "text/html": [
       "<div>\n",
       "<style scoped>\n",
       "    .dataframe tbody tr th:only-of-type {\n",
       "        vertical-align: middle;\n",
       "    }\n",
       "\n",
       "    .dataframe tbody tr th {\n",
       "        vertical-align: top;\n",
       "    }\n",
       "\n",
       "    .dataframe thead th {\n",
       "        text-align: right;\n",
       "    }\n",
       "</style>\n",
       "<table border=\"1\" class=\"dataframe\">\n",
       "  <thead>\n",
       "    <tr style=\"text-align: right;\">\n",
       "      <th></th>\n",
       "      <th>Comment</th>\n",
       "      <th>Rating</th>\n",
       "    </tr>\n",
       "  </thead>\n",
       "  <tbody>\n",
       "    <tr>\n",
       "      <th>0</th>\n",
       "      <td>One of the best pair of earphone for the price...</td>\n",
       "      <td>5.0</td>\n",
       "    </tr>\n",
       "    <tr>\n",
       "      <th>1</th>\n",
       "      <td>Build quality (5/5) Durability (4/5) Wire leng...</td>\n",
       "      <td>5.0</td>\n",
       "    </tr>\n",
       "    <tr>\n",
       "      <th>2</th>\n",
       "      <td>I bought this earphone cause I had read in the...</td>\n",
       "      <td>5.0</td>\n",
       "    </tr>\n",
       "    <tr>\n",
       "      <th>3</th>\n",
       "      <td>Just loved it and sound quality is awesome 😍😍 ...</td>\n",
       "      <td>5.0</td>\n",
       "    </tr>\n",
       "    <tr>\n",
       "      <th>4</th>\n",
       "      <td>Looking for earphones online? This may be the ...</td>\n",
       "      <td>5.0</td>\n",
       "    </tr>\n",
       "    <tr>\n",
       "      <th>...</th>\n",
       "      <td>...</td>\n",
       "      <td>...</td>\n",
       "    </tr>\n",
       "    <tr>\n",
       "      <th>12645</th>\n",
       "      <td>The products of BOAT are ,no doubt, sound and ...</td>\n",
       "      <td>1.0</td>\n",
       "    </tr>\n",
       "    <tr>\n",
       "      <th>12646</th>\n",
       "      <td>After purchasing on 10-Aug-21, used the headph...</td>\n",
       "      <td>1.0</td>\n",
       "    </tr>\n",
       "    <tr>\n",
       "      <th>12647</th>\n",
       "      <td>I bought 3 on different times or 2 3 months ga...</td>\n",
       "      <td>1.0</td>\n",
       "    </tr>\n",
       "    <tr>\n",
       "      <th>12648</th>\n",
       "      <td>The earphones are too heavy. I did see few peo...</td>\n",
       "      <td>1.0</td>\n",
       "    </tr>\n",
       "    <tr>\n",
       "      <th>12649</th>\n",
       "      <td>I purchased these earphones a while ago, but s...</td>\n",
       "      <td>1.0</td>\n",
       "    </tr>\n",
       "  </tbody>\n",
       "</table>\n",
       "<p>12650 rows × 2 columns</p>\n",
       "</div>"
      ],
      "text/plain": [
       "                                                 Comment Rating\n",
       "0      One of the best pair of earphone for the price...    5.0\n",
       "1      Build quality (5/5) Durability (4/5) Wire leng...    5.0\n",
       "2      I bought this earphone cause I had read in the...    5.0\n",
       "3      Just loved it and sound quality is awesome 😍😍 ...    5.0\n",
       "4      Looking for earphones online? This may be the ...    5.0\n",
       "...                                                  ...    ...\n",
       "12645  The products of BOAT are ,no doubt, sound and ...    1.0\n",
       "12646  After purchasing on 10-Aug-21, used the headph...    1.0\n",
       "12647  I bought 3 on different times or 2 3 months ga...    1.0\n",
       "12648  The earphones are too heavy. I did see few peo...    1.0\n",
       "12649  I purchased these earphones a while ago, but s...    1.0\n",
       "\n",
       "[12650 rows x 2 columns]"
      ]
     },
     "execution_count": 505,
     "metadata": {},
     "output_type": "execute_result"
    }
   ],
   "source": [
    "Ratedf3"
   ]
  },
  {
   "cell_type": "code",
   "execution_count": 509,
   "id": "9426e24d",
   "metadata": {},
   "outputs": [],
   "source": [
    "AmaznData = pd.concat([Ratedf1,Ratedf2,Ratedf3],ignore_index=True) #concatenating the 3 dataframes into a single dataframe"
   ]
  },
  {
   "cell_type": "code",
   "execution_count": 510,
   "id": "60d8496d",
   "metadata": {},
   "outputs": [
    {
     "data": {
      "text/html": [
       "<div>\n",
       "<style scoped>\n",
       "    .dataframe tbody tr th:only-of-type {\n",
       "        vertical-align: middle;\n",
       "    }\n",
       "\n",
       "    .dataframe tbody tr th {\n",
       "        vertical-align: top;\n",
       "    }\n",
       "\n",
       "    .dataframe thead th {\n",
       "        text-align: right;\n",
       "    }\n",
       "</style>\n",
       "<table border=\"1\" class=\"dataframe\">\n",
       "  <thead>\n",
       "    <tr style=\"text-align: right;\">\n",
       "      <th></th>\n",
       "      <th>Comment</th>\n",
       "      <th>Rating</th>\n",
       "    </tr>\n",
       "  </thead>\n",
       "  <tbody>\n",
       "    <tr>\n",
       "      <th>0</th>\n",
       "      <td>Just unboxed the phone. Seems to be a better o...</td>\n",
       "      <td>5.0</td>\n",
       "    </tr>\n",
       "    <tr>\n",
       "      <th>1</th>\n",
       "      <td>This is perfect phone, good speed, decent spec...</td>\n",
       "      <td>5.0</td>\n",
       "    </tr>\n",
       "    <tr>\n",
       "      <th>2</th>\n",
       "      <td>A very satisfying experience with the device s...</td>\n",
       "      <td>5.0</td>\n",
       "    </tr>\n",
       "    <tr>\n",
       "      <th>3</th>\n",
       "      <td>It's a real monster. Everything is awesome fro...</td>\n",
       "      <td>5.0</td>\n",
       "    </tr>\n",
       "    <tr>\n",
       "      <th>4</th>\n",
       "      <td>I am using this phone for the last one week an...</td>\n",
       "      <td>5.0</td>\n",
       "    </tr>\n",
       "    <tr>\n",
       "      <th>...</th>\n",
       "      <td>...</td>\n",
       "      <td>...</td>\n",
       "    </tr>\n",
       "    <tr>\n",
       "      <th>19267</th>\n",
       "      <td>The products of BOAT are ,no doubt, sound and ...</td>\n",
       "      <td>1.0</td>\n",
       "    </tr>\n",
       "    <tr>\n",
       "      <th>19268</th>\n",
       "      <td>After purchasing on 10-Aug-21, used the headph...</td>\n",
       "      <td>1.0</td>\n",
       "    </tr>\n",
       "    <tr>\n",
       "      <th>19269</th>\n",
       "      <td>I bought 3 on different times or 2 3 months ga...</td>\n",
       "      <td>1.0</td>\n",
       "    </tr>\n",
       "    <tr>\n",
       "      <th>19270</th>\n",
       "      <td>The earphones are too heavy. I did see few peo...</td>\n",
       "      <td>1.0</td>\n",
       "    </tr>\n",
       "    <tr>\n",
       "      <th>19271</th>\n",
       "      <td>I purchased these earphones a while ago, but s...</td>\n",
       "      <td>1.0</td>\n",
       "    </tr>\n",
       "  </tbody>\n",
       "</table>\n",
       "<p>19272 rows × 2 columns</p>\n",
       "</div>"
      ],
      "text/plain": [
       "                                                 Comment Rating\n",
       "0      Just unboxed the phone. Seems to be a better o...    5.0\n",
       "1      This is perfect phone, good speed, decent spec...    5.0\n",
       "2      A very satisfying experience with the device s...    5.0\n",
       "3      It's a real monster. Everything is awesome fro...    5.0\n",
       "4      I am using this phone for the last one week an...    5.0\n",
       "...                                                  ...    ...\n",
       "19267  The products of BOAT are ,no doubt, sound and ...    1.0\n",
       "19268  After purchasing on 10-Aug-21, used the headph...    1.0\n",
       "19269  I bought 3 on different times or 2 3 months ga...    1.0\n",
       "19270  The earphones are too heavy. I did see few peo...    1.0\n",
       "19271  I purchased these earphones a while ago, but s...    1.0\n",
       "\n",
       "[19272 rows x 2 columns]"
      ]
     },
     "execution_count": 510,
     "metadata": {},
     "output_type": "execute_result"
    }
   ],
   "source": [
    "AmaznData"
   ]
  },
  {
   "cell_type": "markdown",
   "id": "87fa41af",
   "metadata": {},
   "source": [
    "### Flipkart.com"
   ]
  },
  {
   "cell_type": "code",
   "execution_count": 704,
   "id": "ae24157b",
   "metadata": {},
   "outputs": [],
   "source": [
    "#driver loads www.flipkart.com\n",
    "url =  'https://www.flipkart.com/'\n",
    "driver = webdriver.Edge(\"msedgedriver.exe\")\n",
    "driver.get(url)\n"
   ]
  },
  {
   "cell_type": "code",
   "execution_count": 507,
   "id": "b22ccf25",
   "metadata": {},
   "outputs": [],
   "source": [
    "#searching for \"Smartphone\"\n",
    "search = driver.find_element_by_xpath('/html/body/div/div/div[1]/div[1]/div[2]/div[2]/form/div/div/input')\n",
    "search.send_keys('Smartphone')\n",
    "searchbtn = driver.find_element_by_class_name('L0Z3Pu')\n",
    "searchbtn.click()\n"
   ]
  },
  {
   "cell_type": "code",
   "execution_count": 508,
   "id": "9763eb15",
   "metadata": {},
   "outputs": [],
   "source": [
    "#empty list for stoing all URLs of smartphone products\n",
    "produrl = []"
   ]
  },
  {
   "cell_type": "code",
   "execution_count": 513,
   "id": "927b81bf",
   "metadata": {},
   "outputs": [],
   "source": [
    "#the url of each smartphone is appended to the the list\n",
    "produrl_tag = driver.find_elements_by_xpath(\"//a[@class='_1fQZEK']\")\n",
    "for u in produrl_tag:\n",
    "     produrl.append(u.get_attribute(\"href\"))"
   ]
  },
  {
   "cell_type": "code",
   "execution_count": 552,
   "id": "c3d79c53",
   "metadata": {},
   "outputs": [],
   "source": [
    "revurl=[] # an empty list to store all the urls of the review section of the products"
   ]
  },
  {
   "cell_type": "code",
   "execution_count": 553,
   "id": "33976ebf",
   "metadata": {},
   "outputs": [],
   "source": [
    "#the url of review section of each product is appended to the the list\n",
    "for i in produrl:\n",
    "    driver.get(i)\n",
    "    time.sleep(1)\n",
    "    rev_tag = driver.find_element_by_xpath(\"//*[@class='col JOpGWq']/a\")\n",
    "    revurl.append(rev_tag.get_attribute(\"href\"))\n",
    "    "
   ]
  },
  {
   "cell_type": "code",
   "execution_count": 714,
   "id": "b0da09d1",
   "metadata": {},
   "outputs": [],
   "source": [
    "cmt = [] # an empty list to store all of the comment\n",
    "rate = [] # an empty list to store all the ratings\n",
    "revpgurl=[] # an empty list to store all the urls of the pages containing reviews"
   ]
  },
  {
   "cell_type": "code",
   "execution_count": 715,
   "id": "b7b406fe",
   "metadata": {},
   "outputs": [],
   "source": [
    "#the url of each comment page is appended to the the list\n",
    "for i in revurl:\n",
    "    driver.get(i)\n",
    "    time.sleep(2)\n",
    "    \n",
    "              \n",
    "    revpg=driver.find_elements_by_xpath(\"//a[@class='ge-49M']\")\n",
    "    for n in revpg:\n",
    "        revpgurl.append(n.get_attribute(\"href\"))\n",
    "    "
   ]
  },
  {
   "cell_type": "code",
   "execution_count": 717,
   "id": "3a588668",
   "metadata": {},
   "outputs": [],
   "source": [
    "#all the comments and ratings are collected\n",
    "for j in revpgurl:\n",
    "        driver.get(j)\n",
    "        time.sleep(3)\n",
    "        comment_tag = driver.find_elements_by_xpath(\"//div[@class='t-ZTKy']/div/div\")\n",
    "        rate_tag = driver.find_elements_by_xpath(\"//div[@class='_3LWZlK _1BLPMq']\")\n",
    "    \n",
    "        for k in comment_tag:\n",
    "            try:\n",
    "                cmt.append(k.text.replace(\"\\n\",\" \"))\n",
    "            except:\n",
    "                cmt.append(\"-\")\n",
    "        for r in rate_tag:\n",
    "            try:\n",
    "                rate.append(r.text)\n",
    "            except:\n",
    "                rate.append(\"-\")"
   ]
  },
  {
   "cell_type": "code",
   "execution_count": 723,
   "id": "011a4bb4",
   "metadata": {},
   "outputs": [],
   "source": [
    "ratingsdf4 = {'Comment':cmt[0:1700],'Rating':rate[0:1700]}\n",
    "\n",
    "Ratedf4  = pd.DataFrame(ratingsdf4) #creating dataframe of reviews and ratings"
   ]
  },
  {
   "cell_type": "code",
   "execution_count": 724,
   "id": "7c138863",
   "metadata": {},
   "outputs": [
    {
     "data": {
      "text/html": [
       "<div>\n",
       "<style scoped>\n",
       "    .dataframe tbody tr th:only-of-type {\n",
       "        vertical-align: middle;\n",
       "    }\n",
       "\n",
       "    .dataframe tbody tr th {\n",
       "        vertical-align: top;\n",
       "    }\n",
       "\n",
       "    .dataframe thead th {\n",
       "        text-align: right;\n",
       "    }\n",
       "</style>\n",
       "<table border=\"1\" class=\"dataframe\">\n",
       "  <thead>\n",
       "    <tr style=\"text-align: right;\">\n",
       "      <th></th>\n",
       "      <th>Comment</th>\n",
       "      <th>Rating</th>\n",
       "    </tr>\n",
       "  </thead>\n",
       "  <tbody>\n",
       "    <tr>\n",
       "      <th>0</th>\n",
       "      <td>Very good and very good performance and the ba...</td>\n",
       "      <td>5</td>\n",
       "    </tr>\n",
       "    <tr>\n",
       "      <th>1</th>\n",
       "      <td>I bought this for my mom ☺️ nyc at this price</td>\n",
       "      <td>5</td>\n",
       "    </tr>\n",
       "    <tr>\n",
       "      <th>2</th>\n",
       "      <td>Great Phone on your pocket price ❤️</td>\n",
       "      <td>5</td>\n",
       "    </tr>\n",
       "    <tr>\n",
       "      <th>3</th>\n",
       "      <td>Very nice looking and good phone</td>\n",
       "      <td>5</td>\n",
       "    </tr>\n",
       "    <tr>\n",
       "      <th>4</th>\n",
       "      <td>Best mobile On this Price👌👌👌👌</td>\n",
       "      <td>5</td>\n",
       "    </tr>\n",
       "    <tr>\n",
       "      <th>...</th>\n",
       "      <td>...</td>\n",
       "      <td>...</td>\n",
       "    </tr>\n",
       "    <tr>\n",
       "      <th>1695</th>\n",
       "      <td>Awesome mobile phone 📱</td>\n",
       "      <td>5</td>\n",
       "    </tr>\n",
       "    <tr>\n",
       "      <th>1696</th>\n",
       "      <td>Good quality ....100%</td>\n",
       "      <td>5</td>\n",
       "    </tr>\n",
       "    <tr>\n",
       "      <th>1697</th>\n",
       "      <td>Best</td>\n",
       "      <td>5</td>\n",
       "    </tr>\n",
       "    <tr>\n",
       "      <th>1698</th>\n",
       "      <td>very good</td>\n",
       "      <td>5</td>\n",
       "    </tr>\n",
       "    <tr>\n",
       "      <th>1699</th>\n",
       "      <td>Good</td>\n",
       "      <td>5</td>\n",
       "    </tr>\n",
       "  </tbody>\n",
       "</table>\n",
       "<p>1700 rows × 2 columns</p>\n",
       "</div>"
      ],
      "text/plain": [
       "                                                Comment Rating\n",
       "0     Very good and very good performance and the ba...      5\n",
       "1         I bought this for my mom ☺️ nyc at this price      5\n",
       "2                   Great Phone on your pocket price ❤️      5\n",
       "3                      Very nice looking and good phone      5\n",
       "4                         Best mobile On this Price👌👌👌👌      5\n",
       "...                                                 ...    ...\n",
       "1695                             Awesome mobile phone 📱      5\n",
       "1696                              Good quality ....100%      5\n",
       "1697                                               Best      5\n",
       "1698                                          very good      5\n",
       "1699                                               Good      5\n",
       "\n",
       "[1700 rows x 2 columns]"
      ]
     },
     "execution_count": 724,
     "metadata": {},
     "output_type": "execute_result"
    }
   ],
   "source": [
    "Ratedf4"
   ]
  },
  {
   "cell_type": "code",
   "execution_count": 725,
   "id": "5235325b",
   "metadata": {},
   "outputs": [],
   "source": [
    "#searches for \"laptops\"\n",
    "search = driver.find_element_by_xpath('/html/body/div/div/div[1]/div[1]/div[2]/div[2]/form/div/div/input')\n",
    "search.send_keys('Laptop')\n",
    "searchbtn = driver.find_element_by_class_name('L0Z3Pu')\n",
    "searchbtn.click()\n"
   ]
  },
  {
   "cell_type": "code",
   "execution_count": 728,
   "id": "407cd1bc",
   "metadata": {},
   "outputs": [],
   "source": [
    "produrl = []"
   ]
  },
  {
   "cell_type": "code",
   "execution_count": 729,
   "id": "66a6c68a",
   "metadata": {},
   "outputs": [],
   "source": [
    "produrl_tag = driver.find_elements_by_xpath(\"//a[@class='_1fQZEK']\")\n",
    "for u in produrl_tag:\n",
    "     produrl.append(u.get_attribute(\"href\"))"
   ]
  },
  {
   "cell_type": "code",
   "execution_count": 743,
   "id": "f62a4b1d",
   "metadata": {},
   "outputs": [],
   "source": [
    "revurl=[]"
   ]
  },
  {
   "cell_type": "code",
   "execution_count": 744,
   "id": "9b058b29",
   "metadata": {},
   "outputs": [],
   "source": [
    "for i in produrl:\n",
    "    driver.get(i)\n",
    "    time.sleep(1)\n",
    "    rev_tag = driver.find_element_by_xpath(\"//*[@class='col JOpGWq']/a\")\n",
    "    revurl.append(rev_tag.get_attribute(\"href\"))\n",
    "    "
   ]
  },
  {
   "cell_type": "code",
   "execution_count": 747,
   "id": "623917f4",
   "metadata": {},
   "outputs": [],
   "source": [
    "cmt = []\n",
    "rate = []\n",
    "revpgurl=[]"
   ]
  },
  {
   "cell_type": "code",
   "execution_count": 748,
   "id": "b04be38c",
   "metadata": {},
   "outputs": [],
   "source": [
    "\n",
    "for i in revurl:\n",
    "    driver.get(i)\n",
    "    time.sleep(2)\n",
    "    \n",
    "              \n",
    "    revpg=driver.find_elements_by_xpath(\"//a[@class='ge-49M']\")\n",
    "    for n in revpg:\n",
    "        revpgurl.append(n.get_attribute(\"href\"))\n",
    "    "
   ]
  },
  {
   "cell_type": "code",
   "execution_count": 750,
   "id": "f19f5a43",
   "metadata": {},
   "outputs": [],
   "source": [
    "for j in revpgurl:\n",
    "        driver.get(j)\n",
    "        time.sleep(3)\n",
    "        comment_tag = driver.find_elements_by_xpath(\"//div[@class='t-ZTKy']/div/div\")\n",
    "        rate_tag = driver.find_elements_by_xpath(\"//div[@class='_3LWZlK _1BLPMq']\")\n",
    "    \n",
    "        for k in comment_tag:\n",
    "            try:\n",
    "                cmt.append(k.text.replace(\"\\n\",\" \"))\n",
    "            except:\n",
    "                cmt.append(\"-\")\n",
    "        for r in rate_tag:\n",
    "            try:\n",
    "                rate.append(r.text)\n",
    "            except:\n",
    "                rate.append(\"-\")"
   ]
  },
  {
   "cell_type": "code",
   "execution_count": 753,
   "id": "7075cf9d",
   "metadata": {},
   "outputs": [],
   "source": [
    "ratingsdf5 = {'Comment':cmt[0:1200],'Rating':rate[0:1200]}\n",
    "\n",
    "Ratedf5  = pd.DataFrame(ratingsdf5)"
   ]
  },
  {
   "cell_type": "code",
   "execution_count": 765,
   "id": "932cce25",
   "metadata": {},
   "outputs": [],
   "source": [
    "FlipktData = pd.concat([Ratedf4,Ratedf5],ignore_index=True)"
   ]
  },
  {
   "cell_type": "code",
   "execution_count": 766,
   "id": "d0daab87",
   "metadata": {},
   "outputs": [
    {
     "data": {
      "text/html": [
       "<div>\n",
       "<style scoped>\n",
       "    .dataframe tbody tr th:only-of-type {\n",
       "        vertical-align: middle;\n",
       "    }\n",
       "\n",
       "    .dataframe tbody tr th {\n",
       "        vertical-align: top;\n",
       "    }\n",
       "\n",
       "    .dataframe thead th {\n",
       "        text-align: right;\n",
       "    }\n",
       "</style>\n",
       "<table border=\"1\" class=\"dataframe\">\n",
       "  <thead>\n",
       "    <tr style=\"text-align: right;\">\n",
       "      <th></th>\n",
       "      <th>Comment</th>\n",
       "      <th>Rating</th>\n",
       "    </tr>\n",
       "  </thead>\n",
       "  <tbody>\n",
       "    <tr>\n",
       "      <th>0</th>\n",
       "      <td>Very good and very good performance and the ba...</td>\n",
       "      <td>5</td>\n",
       "    </tr>\n",
       "    <tr>\n",
       "      <th>1</th>\n",
       "      <td>I bought this for my mom ☺️ nyc at this price</td>\n",
       "      <td>5</td>\n",
       "    </tr>\n",
       "    <tr>\n",
       "      <th>2</th>\n",
       "      <td>Great Phone on your pocket price ❤️</td>\n",
       "      <td>5</td>\n",
       "    </tr>\n",
       "    <tr>\n",
       "      <th>3</th>\n",
       "      <td>Very nice looking and good phone</td>\n",
       "      <td>5</td>\n",
       "    </tr>\n",
       "    <tr>\n",
       "      <th>4</th>\n",
       "      <td>Best mobile On this Price👌👌👌👌</td>\n",
       "      <td>5</td>\n",
       "    </tr>\n",
       "    <tr>\n",
       "      <th>...</th>\n",
       "      <td>...</td>\n",
       "      <td>...</td>\n",
       "    </tr>\n",
       "    <tr>\n",
       "      <th>2895</th>\n",
       "      <td>Switching from a windows laptop to a MacBook w...</td>\n",
       "      <td>5</td>\n",
       "    </tr>\n",
       "    <tr>\n",
       "      <th>2896</th>\n",
       "      <td>Superb I am happy to have this but only one th...</td>\n",
       "      <td>5</td>\n",
       "    </tr>\n",
       "    <tr>\n",
       "      <th>2897</th>\n",
       "      <td>top class, must buy</td>\n",
       "      <td>5</td>\n",
       "    </tr>\n",
       "    <tr>\n",
       "      <th>2898</th>\n",
       "      <td>Value for money Best combination of 8gb ram 51...</td>\n",
       "      <td>4</td>\n",
       "    </tr>\n",
       "    <tr>\n",
       "      <th>2899</th>\n",
       "      <td>I got it at 60k 1) Superb performance. 2)Feel ...</td>\n",
       "      <td>5</td>\n",
       "    </tr>\n",
       "  </tbody>\n",
       "</table>\n",
       "<p>2900 rows × 2 columns</p>\n",
       "</div>"
      ],
      "text/plain": [
       "                                                Comment Rating\n",
       "0     Very good and very good performance and the ba...      5\n",
       "1         I bought this for my mom ☺️ nyc at this price      5\n",
       "2                   Great Phone on your pocket price ❤️      5\n",
       "3                      Very nice looking and good phone      5\n",
       "4                         Best mobile On this Price👌👌👌👌      5\n",
       "...                                                 ...    ...\n",
       "2895  Switching from a windows laptop to a MacBook w...      5\n",
       "2896  Superb I am happy to have this but only one th...      5\n",
       "2897                                top class, must buy      5\n",
       "2898  Value for money Best combination of 8gb ram 51...      4\n",
       "2899  I got it at 60k 1) Superb performance. 2)Feel ...      5\n",
       "\n",
       "[2900 rows x 2 columns]"
      ]
     },
     "execution_count": 766,
     "metadata": {},
     "output_type": "execute_result"
    }
   ],
   "source": [
    "FlipktData"
   ]
  },
  {
   "cell_type": "code",
   "execution_count": 767,
   "id": "1d74cbe1",
   "metadata": {},
   "outputs": [],
   "source": [
    "RatingsDF = pd.concat([AmaznData,FlipktData],ignore_index=True) #concatenating amazon dataframe and flipkart dataframe"
   ]
  },
  {
   "cell_type": "code",
   "execution_count": 768,
   "id": "b67eab3e",
   "metadata": {},
   "outputs": [
    {
     "data": {
      "text/html": [
       "<div>\n",
       "<style scoped>\n",
       "    .dataframe tbody tr th:only-of-type {\n",
       "        vertical-align: middle;\n",
       "    }\n",
       "\n",
       "    .dataframe tbody tr th {\n",
       "        vertical-align: top;\n",
       "    }\n",
       "\n",
       "    .dataframe thead th {\n",
       "        text-align: right;\n",
       "    }\n",
       "</style>\n",
       "<table border=\"1\" class=\"dataframe\">\n",
       "  <thead>\n",
       "    <tr style=\"text-align: right;\">\n",
       "      <th></th>\n",
       "      <th>Comment</th>\n",
       "      <th>Rating</th>\n",
       "    </tr>\n",
       "  </thead>\n",
       "  <tbody>\n",
       "    <tr>\n",
       "      <th>0</th>\n",
       "      <td>Just unboxed the phone. Seems to be a better o...</td>\n",
       "      <td>5.0</td>\n",
       "    </tr>\n",
       "    <tr>\n",
       "      <th>1</th>\n",
       "      <td>This is perfect phone, good speed, decent spec...</td>\n",
       "      <td>5.0</td>\n",
       "    </tr>\n",
       "    <tr>\n",
       "      <th>2</th>\n",
       "      <td>A very satisfying experience with the device s...</td>\n",
       "      <td>5.0</td>\n",
       "    </tr>\n",
       "    <tr>\n",
       "      <th>3</th>\n",
       "      <td>It's a real monster. Everything is awesome fro...</td>\n",
       "      <td>5.0</td>\n",
       "    </tr>\n",
       "    <tr>\n",
       "      <th>4</th>\n",
       "      <td>I am using this phone for the last one week an...</td>\n",
       "      <td>5.0</td>\n",
       "    </tr>\n",
       "    <tr>\n",
       "      <th>...</th>\n",
       "      <td>...</td>\n",
       "      <td>...</td>\n",
       "    </tr>\n",
       "    <tr>\n",
       "      <th>22167</th>\n",
       "      <td>Switching from a windows laptop to a MacBook w...</td>\n",
       "      <td>5</td>\n",
       "    </tr>\n",
       "    <tr>\n",
       "      <th>22168</th>\n",
       "      <td>Superb I am happy to have this but only one th...</td>\n",
       "      <td>5</td>\n",
       "    </tr>\n",
       "    <tr>\n",
       "      <th>22169</th>\n",
       "      <td>top class, must buy</td>\n",
       "      <td>5</td>\n",
       "    </tr>\n",
       "    <tr>\n",
       "      <th>22170</th>\n",
       "      <td>Value for money Best combination of 8gb ram 51...</td>\n",
       "      <td>4</td>\n",
       "    </tr>\n",
       "    <tr>\n",
       "      <th>22171</th>\n",
       "      <td>I got it at 60k 1) Superb performance. 2)Feel ...</td>\n",
       "      <td>5</td>\n",
       "    </tr>\n",
       "  </tbody>\n",
       "</table>\n",
       "<p>22172 rows × 2 columns</p>\n",
       "</div>"
      ],
      "text/plain": [
       "                                                 Comment Rating\n",
       "0      Just unboxed the phone. Seems to be a better o...    5.0\n",
       "1      This is perfect phone, good speed, decent spec...    5.0\n",
       "2      A very satisfying experience with the device s...    5.0\n",
       "3      It's a real monster. Everything is awesome fro...    5.0\n",
       "4      I am using this phone for the last one week an...    5.0\n",
       "...                                                  ...    ...\n",
       "22167  Switching from a windows laptop to a MacBook w...      5\n",
       "22168  Superb I am happy to have this but only one th...      5\n",
       "22169                                top class, must buy      5\n",
       "22170  Value for money Best combination of 8gb ram 51...      4\n",
       "22171  I got it at 60k 1) Superb performance. 2)Feel ...      5\n",
       "\n",
       "[22172 rows x 2 columns]"
      ]
     },
     "execution_count": 768,
     "metadata": {},
     "output_type": "execute_result"
    }
   ],
   "source": [
    "RatingsDF"
   ]
  },
  {
   "cell_type": "code",
   "execution_count": 769,
   "id": "0b85763f",
   "metadata": {},
   "outputs": [],
   "source": [
    "RatingsDF.to_csv('RatingsWebscrape.csv') # Saving as .csv file"
   ]
  },
  {
   "cell_type": "code",
   "execution_count": null,
   "id": "f01b0a88",
   "metadata": {},
   "outputs": [],
   "source": []
  }
 ],
 "metadata": {
  "kernelspec": {
   "display_name": "Python 3 (ipykernel)",
   "language": "python",
   "name": "python3"
  },
  "language_info": {
   "codemirror_mode": {
    "name": "ipython",
    "version": 3
   },
   "file_extension": ".py",
   "mimetype": "text/x-python",
   "name": "python",
   "nbconvert_exporter": "python",
   "pygments_lexer": "ipython3",
   "version": "3.8.12"
  }
 },
 "nbformat": 4,
 "nbformat_minor": 5
}
